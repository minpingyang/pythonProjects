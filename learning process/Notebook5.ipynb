{
 "cells": [
  {
   "cell_type": "markdown",
   "metadata": {},
   "source": [
    "# Today - Modules, Objects, and Files"
   ]
  },
  {
   "cell_type": "markdown",
   "metadata": {},
   "source": [
    "# Modules\n",
    "\n",
    "Organized units (written as files) which contain functions, statements and other\n",
    "definitions.\n",
    "\n",
    "Any file ending in .py is treated as a module (e.g., ```numfun1.py```, which names and defines a function ```numop2```).\n",
    "\n",
    "Modules: own global names/functions so you can name things whatever you want there and not conflict with the names in other modules"
   ]
  },
  {
   "cell_type": "markdown",
   "metadata": {},
   "source": [
    "### Why?\n",
    "\n",
    "If you quit the interpreter, all of your functions and variables are lost. You are better off defining longer term programs in files with a text editor. This is called a script. Once your scripts get longer, you can take common functionality and put that in specific files. These can then be used by multiple scripts without having to rewrite the functionality.\n",
    "\n",
    "These files are called modules.\n",
    "\n",
    "A module can be imported and used in scripts (or the interpreter)."
   ]
  },
  {
   "cell_type": "markdown",
   "metadata": {},
   "source": [
    "This module would be stored in file:numfun1.py\n",
    "\n",
    "```python\n",
    "\"\"\"\n",
    "small demo of modules\n",
    "\"\"\"\n",
    "def numop1(x,y,multiplier=1.0,greetings=\"Thank you for your inquiry.\"):\n",
    "\"\"\" numop1 -- this does a simple operation on two numbers.\n",
    "    We expect x,y are numbers and return x + y times the multiplier\n",
    "    multiplier is also a number (a float is preferred) and is optional.\n",
    "    It defaults to 1.0.\n",
    "    You can also specify a small greeting as a string.\n",
    "\"\"\"\n",
    "    if greetings is not None:\n",
    "        print(greetings)\n",
    "    return (x + y)*multiplier\n",
    "```"
   ]
  },
  {
   "cell_type": "markdown",
   "metadata": {},
   "source": [
    "## Importing a Module\n",
    "\n",
    "```import module_name```\n",
    "\n",
    "Gives us access to that module’s functions."
   ]
  },
  {
   "cell_type": "code",
   "execution_count": 1,
   "metadata": {
    "collapsed": false
   },
   "outputs": [
    {
     "name": "stdout",
     "output_type": "stream",
     "text": [
      "None\n"
     ]
    },
    {
     "data": {
      "text/plain": [
       "10"
      ]
     },
     "execution_count": 1,
     "metadata": {},
     "output_type": "execute_result"
    }
   ],
   "source": [
    "import numfun1\n",
    "numfun1.numop1(2,3,2,greetings=\"None\")"
   ]
  },
  {
   "cell_type": "markdown",
   "metadata": {},
   "source": [
    "Need to refer to the function within numfun1 with dot notation."
   ]
  },
  {
   "cell_type": "code",
   "execution_count": 2,
   "metadata": {
    "collapsed": false
   },
   "outputs": [
    {
     "ename": "NameError",
     "evalue": "name 'numop1' is not defined",
     "output_type": "error",
     "traceback": [
      "\u001b[1;31m---------------------------------------------------------------------------\u001b[0m",
      "\u001b[1;31mNameError\u001b[0m                                 Traceback (most recent call last)",
      "\u001b[1;32m<ipython-input-2-9bb2ef6f5449>\u001b[0m in \u001b[0;36m<module>\u001b[1;34m()\u001b[0m\n\u001b[1;32m----> 1\u001b[1;33m \u001b[0mnumop1\u001b[0m\u001b[1;33m(\u001b[0m\u001b[1;36m2\u001b[0m\u001b[1;33m,\u001b[0m\u001b[1;36m3\u001b[0m\u001b[1;33m,\u001b[0m\u001b[1;36m2\u001b[0m\u001b[1;33m,\u001b[0m\u001b[0mgreetings\u001b[0m\u001b[1;33m=\u001b[0m\u001b[1;32mNone\u001b[0m\u001b[1;33m)\u001b[0m\u001b[1;33m\u001b[0m\u001b[0m\n\u001b[0m",
      "\u001b[1;31mNameError\u001b[0m: name 'numop1' is not defined"
     ]
    }
   ],
   "source": [
    "numop1(2,3,2,greetings=None)"
   ]
  },
  {
   "cell_type": "markdown",
   "metadata": {},
   "source": [
    "### Example Module (numfun2.py)\n",
    "\n",
    "```python\n",
    "\"\"\"\n",
    "small demo of modules\n",
    "\"\"\"\n",
    "# print out a message on loading and set two variables that are local to the module\n",
    "print(\"numfun2 in the house\")\n",
    "x = 2\n",
    "s = \"spamm\"\n",
    "\n",
    "def numop1(x,y,multiplier=1.0,greetings=\"Thank you for your inquiry.\"):\n",
    "\"\"\"\n",
    "    Purpose: does a simple operation on two numbers.\n",
    "    Input: We expect x,y are numbers\n",
    "    multiplier is also a number (a float is preferred) and is optional.\n",
    "    It defaults to 1.0. You can also specify a small greeting as a string.\n",
    "    Output: return x + y times the multiplier\n",
    "\"\"\"\n",
    "   if greetings is not None:\n",
    "      print greetings\n",
    "   return (x + y)*multiplier\n",
    "```"
   ]
  },
  {
   "cell_type": "code",
   "execution_count": 3,
   "metadata": {
    "collapsed": false
   },
   "outputs": [
    {
     "name": "stdout",
     "output_type": "stream",
     "text": [
      "numfun2 in the house\n"
     ]
    }
   ],
   "source": [
    "import numfun2"
   ]
  },
  {
   "cell_type": "markdown",
   "metadata": {},
   "source": [
    "Issuing an import statement twice on the same module does nothing."
   ]
  },
  {
   "cell_type": "code",
   "execution_count": 5,
   "metadata": {
    "collapsed": false
   },
   "outputs": [],
   "source": [
    "import numfun2\n",
    "# numfun2 is already imported...do nothing"
   ]
  },
  {
   "cell_type": "markdown",
   "metadata": {},
   "source": [
    "The same identifier can be used in two different modules, we use a dot notation to specify which identifier to which we are referring."
   ]
  },
  {
   "cell_type": "code",
   "execution_count": 8,
   "metadata": {
    "collapsed": false
   },
   "outputs": [
    {
     "name": "stdout",
     "output_type": "stream",
     "text": [
      "2 spamm\n"
     ]
    }
   ],
   "source": [
    "print(numfun2.x, numfun2.s)"
   ]
  },
  {
   "cell_type": "markdown",
   "metadata": {},
   "source": [
    "Scoping rules apply, the precedence is interpreter, module and function."
   ]
  },
  {
   "cell_type": "code",
   "execution_count": 9,
   "metadata": {
    "collapsed": false
   },
   "outputs": [
    {
     "name": "stdout",
     "output_type": "stream",
     "text": [
      "eggs spamm\n"
     ]
    }
   ],
   "source": [
    "\"\"\" first s is a global belonging to interpreter\n",
    "second s is a global belonging to module numfun2 accessible via dot notation\n",
    "\"\"\"\n",
    "s = \"eggs\" \n",
    "print(s, numfun2.s) "
   ]
  },
  {
   "cell_type": "code",
   "execution_count": 10,
   "metadata": {
    "collapsed": false
   },
   "outputs": [
    {
     "name": "stdout",
     "output_type": "stream",
     "text": [
      "green eggs green eggs\n"
     ]
    }
   ],
   "source": [
    "\"\"\" because numfun2.s is at the same 'level' as the interpreter, we can\n",
    "do direct assignment to numfun2.s just in the same way as we would for\n",
    "a global defined in the interpreter.\n",
    "\"\"\"\n",
    "s = \"green eggs\"\n",
    "numfun2.s = s\n",
    "print(s, numfun2.s)"
   ]
  },
  {
   "cell_type": "markdown",
   "metadata": {},
   "source": [
    "## Importing into the Current Namespace\n",
    "\n",
    "We can simplify our programs and avoid using the dot notation by bringing some of module’s functions into the current namespace.\n",
    "\n",
    "There are multiple ways to do this.\n",
    "\n",
    "```python\n",
    "from module_name import function_name\n",
    "from module_name import variable\n",
    "from module_name import variable, function_name1, function_name2, ...```"
   ]
  },
  {
   "cell_type": "code",
   "execution_count": 11,
   "metadata": {
    "collapsed": false
   },
   "outputs": [],
   "source": [
    "from numfun2 import x, numop1"
   ]
  },
  {
   "cell_type": "code",
   "execution_count": 12,
   "metadata": {
    "collapsed": false
   },
   "outputs": [
    {
     "name": "stdout",
     "output_type": "stream",
     "text": [
      "2\n",
      "10\n"
     ]
    }
   ],
   "source": [
    "print (x)\n",
    "print (numop1(2,3,2,greetings=None))"
   ]
  },
  {
   "cell_type": "code",
   "execution_count": 19,
   "metadata": {
    "collapsed": false
   },
   "outputs": [
    {
     "data": {
      "text/plain": [
       "True"
      ]
     },
     "execution_count": 19,
     "metadata": {},
     "output_type": "execute_result"
    }
   ],
   "source": [
    "# prove that we don't need to use dot notation\n",
    "numfun2.x == x \n"
   ]
  },
  {
   "cell_type": "code",
   "execution_count": 20,
   "metadata": {
    "collapsed": false
   },
   "outputs": [
    {
     "data": {
      "text/plain": [
       "True"
      ]
     },
     "execution_count": 20,
     "metadata": {},
     "output_type": "execute_result"
    }
   ],
   "source": [
    "numfun2.numop1(2,3,2,greetings=None) == numop1(2,3,2,greetings=None)"
   ]
  },
  {
   "cell_type": "markdown",
   "metadata": {},
   "source": [
    "You don't have to use the same name (useful if you already have used that name for a variable or function).\n",
    "\n",
    "```python\n",
    "from module_name import name as my_name```"
   ]
  },
  {
   "cell_type": "code",
   "execution_count": 21,
   "metadata": {
    "collapsed": false
   },
   "outputs": [
    {
     "name": "stdout",
     "output_type": "stream",
     "text": [
      "green eggs\n"
     ]
    }
   ],
   "source": [
    "from numfun2 import s as my_fav_food\n",
    "from numfun2 import numop1 as wicked_awesome_adder\n",
    "print(my_fav_food)"
   ]
  },
  {
   "cell_type": "code",
   "execution_count": 22,
   "metadata": {
    "collapsed": false
   },
   "outputs": [
    {
     "name": "stdout",
     "output_type": "stream",
     "text": [
      "Thank you for your inquiry.\n"
     ]
    },
    {
     "data": {
      "text/plain": [
       "5"
      ]
     },
     "execution_count": 22,
     "metadata": {},
     "output_type": "execute_result"
    }
   ],
   "source": [
    "wicked_awesome_adder(2,3,1)"
   ]
  },
  {
   "cell_type": "markdown",
   "metadata": {},
   "source": [
    "Not sure what to import? Just import it all (called name space pollution because you might get a lot of junk as well!).\n",
    "\n",
    "```python\n",
    "from module_name import *\n",
    "```"
   ]
  },
  {
   "cell_type": "code",
   "execution_count": 23,
   "metadata": {
    "collapsed": false
   },
   "outputs": [
    {
     "name": "stdout",
     "output_type": "stream",
     "text": [
      "Thank you for your inquiry.\n",
      "5\n"
     ]
    }
   ],
   "source": [
    "from numfun2 import *\n",
    "print(numop1(x,3,1))"
   ]
  },
  {
   "cell_type": "markdown",
   "metadata": {},
   "source": [
    "## Built-In Modules\n",
    "\n",
    "Give access to the full range of what Python can do."
   ]
  },
  {
   "cell_type": "markdown",
   "metadata": {},
   "source": [
    "For example, exposes interpreter stuff & interactions\n",
    "\n",
    "**sys** (like environment and file I/O)\n",
    "\n",
    "**os** exposes platform-specific OS functions(like file statistics, directory services)\n",
    "\n",
    "**math** basic mathematical functions & constants\n",
    "\n",
    "These are very well tested and close to the optimal way for doing things within Python"
   ]
  },
  {
   "cell_type": "markdown",
   "metadata": {},
   "source": [
    "You can get help using the pydoc3 command, for example **pydoc3 sys** will generate the manual page for sys"
   ]
  },
  {
   "cell_type": "raw",
   "metadata": {},
   "source": [
    "Help on built-in module sys:\n",
    "\n",
    "NAME\n",
    "    sys\n",
    "\n",
    "FILE\n",
    "    (built-in)\n",
    "\n",
    "MODULE DOCS\n",
    "    http://docs.python.org/library/sys\n",
    "\n",
    "DESCRIPTION\n",
    "    This module provides access to some objects used or maintained by the\n",
    "    interpreter and to functions that interact strongly with the interpreter.\n",
    "    \n",
    "    Dynamic objects:\n",
    "    \n",
    "    argv -- command line arguments; argv[0] is the script pathname if known\n",
    "    path -- module search path; path[0] is the script directory, else ''\n",
    "    modules -- dictionary of loaded modules\n",
    "    \n",
    "    displayhook -- called to show results in an interactive session\n",
    "    excepthook -- called to handle any uncaught exception other than SystemExit"
   ]
  },
  {
   "cell_type": "markdown",
   "metadata": {},
   "source": [
    "### Example Directory Listing Program"
   ]
  },
  {
   "cell_type": "code",
   "execution_count": 24,
   "metadata": {
    "collapsed": false
   },
   "outputs": [],
   "source": [
    "import os\n",
    "import sys\n",
    "def getinfo(path=\".\"):\n",
    "    \"\"\"\n",
    "    Purpose: make simple use of os and sys modules\n",
    "    Input: path (default = \".\"), the directory you want to list\n",
    "    \"\"\"\n",
    "    print(\"You are using Python version \", end=\"\")\n",
    "    print(sys.version)\n",
    "    print(\"-\" * 40)\n",
    "    print(\"Files in the directory \" + str(os.path.abspath(path)) + \":\")\n",
    "    for f in os.listdir(path): \n",
    "        print(f)"
   ]
  },
  {
   "cell_type": "markdown",
   "metadata": {},
   "source": [
    "Let's run it."
   ]
  },
  {
   "cell_type": "code",
   "execution_count": 26,
   "metadata": {
    "collapsed": false
   },
   "outputs": [
    {
     "name": "stdout",
     "output_type": "stream",
     "text": [
      "You are using Python version 3.4.3 (default, Oct 14 2015, 20:28:29) \n",
      "[GCC 4.8.4]\n",
      "----------------------------------------\n",
      "Files in the directory /home/ryan/Dropbox/University/Lecturing/NWEN241:\n",
      "a1\n",
      "2015project1\n",
      "python-project1-test\n",
      "exam\n",
      "projecttesting\n",
      "PythonProject1.pdf\n",
      "python-project-model\n",
      "python-project-model.zip\n",
      "python-project1\n",
      "python-project1.zip\n",
      "assignments\n",
      "notebooks\n",
      "slides\n",
      "2015-notebooks\n",
      "2015\n",
      "test\n"
     ]
    }
   ],
   "source": [
    "getinfo(\"..\")"
   ]
  },
  {
   "cell_type": "markdown",
   "metadata": {},
   "source": [
    "Function meanings:\n",
    "\n",
    "**os.listdir()** - return a dictionary of all the file names in the specified directory\n",
    "\n",
    "**sys.version()** - string representation of the Python (and gcc) version\n",
    "\n",
    "**os.path.abspath()** - translation of given pathname to the absolute path (operating system-specific)"
   ]
  },
  {
   "cell_type": "markdown",
   "metadata": {},
   "source": [
    "## There is Python Package for Almost Anything!!"
   ]
  },
  {
   "cell_type": "markdown",
   "metadata": {},
   "source": [
    "## Cheesehop (PyPi)\n",
    "\n",
    "The Python Package Index is a repository of software for the Python programming language. There are currently 81138 packages available. \n",
    "\n",
    "https://pypi.python.org/pypi\n",
    "\n",
    "## There is a package for almost everything!"
   ]
  },
  {
   "cell_type": "markdown",
   "metadata": {},
   "source": [
    "<img src=\"http://imgs.xkcd.com/comics/python.png\">\n",
    "\n",
    "http://xkcd.com/353/\n",
    "    \n"
   ]
  },
  {
   "cell_type": "markdown",
   "metadata": {},
   "source": [
    "# Making a Script Executable."
   ]
  },
  {
   "cell_type": "markdown",
   "metadata": {},
   "source": [
    "When a script/module is run from the command line, a special variable called __name__ is set to \"__main__\""
   ]
  },
  {
   "cell_type": "markdown",
   "metadata": {},
   "source": [
    "```python\n",
    "# all your module stuff here\n",
    "# at the bottom stick...\n",
    "if __name__ == \"__main__\":\n",
    "\"\"\"only executed if this module is called from the command line\"\"\"\n",
    "    print(\"**** I was called from the command line!\")\n",
    "```"
   ]
  },
  {
   "cell_type": "markdown",
   "metadata": {},
   "source": [
    "Set execute permissions of that script."
   ]
  },
  {
   "cell_type": "markdown",
   "metadata": {},
   "source": [
    "```bash\n",
    "chmod a+x script_name.py ## this works in UNIX, Mac OSX\n",
    "./script_name.py\n",
    "**** I was called from the command line!\n",
    "```"
   ]
  },
  {
   "cell_type": "markdown",
   "metadata": {},
   "source": [
    "# Objects\n",
    "\n",
    "Python can be both procedural (using functions) and object oriented (using classes).\n"
   ]
  },
  {
   "cell_type": "markdown",
   "metadata": {},
   "source": [
    "## Classes \n",
    "\n",
    "You declare classes like this:\n",
    "\n",
    "```class class_name(object):\n",
    "    <statement-1>\n",
    "    ...\n",
    "    <statement-N>```\n",
    "\n",
    "This creates a new class ```class_name``` that is of type object."
   ]
  },
  {
   "cell_type": "code",
   "execution_count": 29,
   "metadata": {
    "collapsed": false
   },
   "outputs": [],
   "source": [
    "class Point():\n",
    "    \"\"\"Represents a point (x,y values).\"\"\"\n",
    "    "
   ]
  },
  {
   "cell_type": "code",
   "execution_count": 30,
   "metadata": {
    "collapsed": false
   },
   "outputs": [
    {
     "name": "stdout",
     "output_type": "stream",
     "text": [
      "<__main__.Point object at 0x7f9ca84c6d30>\n",
      "<class '__main__.Point'>\n"
     ]
    }
   ],
   "source": [
    "# create an instance of Point\n",
    "# note that unlike Java, no need to use new\n",
    "blank = Point()\n",
    "print (blank)\n",
    "print (type(blank))"
   ]
  },
  {
   "cell_type": "markdown",
   "metadata": {},
   "source": [
    "The return value is a reference to a Point object, which we assign to blank. Creating a new object is called instantiation, and the object is an instance of the class.\n",
    "\n",
    "When you print an instance, Python tells you what class it belongs to and where it is stored in memory (the prefix 0x means that the following number is in hexadecimal)."
   ]
  },
  {
   "cell_type": "markdown",
   "metadata": {},
   "source": [
    "## Instance Variables\n",
    "\n",
    "These are the equivalent of **fields** in Java classes, these are also known as **data attributes** in Python. \n",
    "\n",
    "There are two ways to add instance variables: (1) add them dynamically on a per object basis; (2) define them in the class so each instance has its own independent instance variable.\n",
    "\n",
    "### (1) Per Instance\n",
    "\n",
    "For example, ```blank.x = 10``` will add the instance variable ```x``` to ```blank``` but not affect any other instances of ```Point```. "
   ]
  },
  {
   "cell_type": "code",
   "execution_count": 31,
   "metadata": {
    "collapsed": false
   },
   "outputs": [
    {
     "name": "stdout",
     "output_type": "stream",
     "text": [
      "50\n"
     ]
    }
   ],
   "source": [
    "blank2 = Point() # create another instance of Point\n",
    "blank.x = 50 # add the attribute x to blank and initialise it\n",
    "print(blank.x)"
   ]
  },
  {
   "cell_type": "code",
   "execution_count": 32,
   "metadata": {
    "collapsed": false
   },
   "outputs": [
    {
     "ename": "AttributeError",
     "evalue": "'Point' object has no attribute 'x'",
     "output_type": "error",
     "traceback": [
      "\u001b[1;31m---------------------------------------------------------------------------\u001b[0m",
      "\u001b[1;31mAttributeError\u001b[0m                            Traceback (most recent call last)",
      "\u001b[1;32m<ipython-input-32-3c7941a74779>\u001b[0m in \u001b[0;36m<module>\u001b[1;34m()\u001b[0m\n\u001b[1;32m----> 1\u001b[1;33m \u001b[0mprint\u001b[0m\u001b[1;33m(\u001b[0m\u001b[0mblank2\u001b[0m\u001b[1;33m.\u001b[0m\u001b[0mx\u001b[0m\u001b[1;33m)\u001b[0m \u001b[1;31m# this will fail because x was only added to blank\u001b[0m\u001b[1;33m\u001b[0m\u001b[0m\n\u001b[0m",
      "\u001b[1;31mAttributeError\u001b[0m: 'Point' object has no attribute 'x'"
     ]
    }
   ],
   "source": [
    "print(blank2.x) # this will fail because x was only added to blank"
   ]
  },
  {
   "cell_type": "markdown",
   "metadata": {},
   "source": [
    "### (2) Every Instance of a Class\n",
    "\n",
    "We want each instance of ```Point``` to have two instance variables ```x``` and ```y```.\n",
    "\n",
    "This is done by adding a constructor ```__init__``` that adds these instance variables each time that a new isntance of ```Point``` is instantiated.\n",
    "\n",
    "The first argument for the constructor is always ```self``` (like ```this``` is Java) and you can add as many other arguments as you have instance variables.\n"
   ]
  },
  {
   "cell_type": "code",
   "execution_count": 33,
   "metadata": {
    "collapsed": false
   },
   "outputs": [
    {
     "name": "stdout",
     "output_type": "stream",
     "text": [
      "20 30 40 50\n"
     ]
    }
   ],
   "source": [
    "class Point():\n",
    "    \"\"\"Represents a point in 2-D space.\"\"\"\n",
    "    def __init__(self,x,y):\n",
    "        self.x = x\n",
    "        self.y = y\n",
    "        \n",
    "blank3 = Point(20,30)\n",
    "blank4 = Point(40,50)\n",
    "print(blank3.x, blank3.y, blank4.x, blank4.y)"
   ]
  },
  {
   "cell_type": "markdown",
   "metadata": {},
   "source": [
    "## Adding Methods\n",
    "\n",
    "This is very similar to what we have just done. \n",
    "\n",
    "*Methods* are just *functions* that are bound to the class (that is, they are declared within it).\n",
    "\n",
    "Each method always has *self* as its first argument and you can add further arguments using the syntax we have already seen for functions.\n",
    "\n",
    "In the example below, we add two methods ```hello_world``` that simply does as it says and ```stringify``` that returns a formatted version of the internal state of the ```Point``` instance.\n"
   ]
  },
  {
   "cell_type": "code",
   "execution_count": 37,
   "metadata": {
    "collapsed": false
   },
   "outputs": [
    {
     "name": "stdout",
     "output_type": "stream",
     "text": [
      "hello world\n",
      "Point instance: (100,5)\n"
     ]
    }
   ],
   "source": [
    "class Point():\n",
    "    \"\"\"Represents a point in 2-D space.\"\"\"\n",
    "    def __init__(self,x,y):\n",
    "        self.x = x\n",
    "        self.y = y\n",
    "\n",
    "    \"\"\"Say hello world\"\"\"\n",
    "    def hello_world(self):\n",
    "        def second():\n",
    "            print ('moo')\n",
    "        second()\n",
    "        print(\"hello world\")\n",
    "        return\n",
    "        \n",
    "    \"\"\"Stringified version of point\"\"\"\n",
    "    def stringify(self):\n",
    "        return \"Point instance: (\"+str(self.x)+\",\"+str(self.y)+\")\"\n",
    "        \n",
    "star = Point(1,16)\n",
    "moon = Point(100,5)\n",
    "\n",
    "star.hello_world() # note that Python automatically passes self\n",
    "print(moon.stringify()) "
   ]
  },
  {
   "cell_type": "markdown",
   "metadata": {},
   "source": [
    "\n"
   ]
  },
  {
   "cell_type": "code",
   "execution_count": null,
   "metadata": {
    "collapsed": true
   },
   "outputs": [],
   "source": []
  }
 ],
 "metadata": {
  "kernelspec": {
   "display_name": "Python 3",
   "language": "python",
   "name": "python3"
  },
  "language_info": {
   "codemirror_mode": {
    "name": "ipython",
    "version": 3
   },
   "file_extension": ".py",
   "mimetype": "text/x-python",
   "name": "python",
   "nbconvert_exporter": "python",
   "pygments_lexer": "ipython3",
   "version": "3.6.0"
  }
 },
 "nbformat": 4,
 "nbformat_minor": 0
}
